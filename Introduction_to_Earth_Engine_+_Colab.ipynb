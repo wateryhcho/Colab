{
  "nbformat": 4,
  "nbformat_minor": 0,
  "metadata": {
    "colab": {
      "name": "Introduction to Earth Engine + Colab.ipynb",
      "provenance": [],
      "collapsed_sections": [],
      "toc_visible": true,
      "include_colab_link": true
    },
    "kernelspec": {
      "name": "python3",
      "display_name": "Python 3"
    }
  },
  "cells": [
    {
      "cell_type": "markdown",
      "metadata": {
        "id": "view-in-github",
        "colab_type": "text"
      },
      "source": [
        "<a href=\"https://colab.research.google.com/github/wateryhcho/Colaboratory/blob/main/Introduction_to_Earth_Engine_%2B_Colab.ipynb\" target=\"_parent\"><img src=\"https://colab.research.google.com/assets/colab-badge.svg\" alt=\"Open In Colab\"/></a>"
      ]
    },
    {
      "cell_type": "markdown",
      "metadata": {
        "id": "i0wm0ZJGbOxo"
      },
      "source": [
        "This notebook gives a brief introduction of using Colab with Earth Engine and is available at: https://g.co/earth/colab-ee"
      ]
    },
    {
      "cell_type": "markdown",
      "metadata": {
        "id": "Rdp7SvLsQNd3"
      },
      "source": [
        "# Colab Basics\n"
      ]
    },
    {
      "cell_type": "markdown",
      "metadata": {
        "id": "koqjVt9zQ6xc"
      },
      "source": [
        "## Basic example"
      ]
    },
    {
      "cell_type": "markdown",
      "metadata": {
        "id": "3Z_f2D0PQnO8"
      },
      "source": [
        "Define a few variables:"
      ]
    },
    {
      "cell_type": "code",
      "metadata": {
        "id": "DkvjDUfGQfhX"
      },
      "source": [
        "# This is a code block.\n",
        "a = 100\n",
        "b = 80"
      ],
      "execution_count": null,
      "outputs": []
    },
    {
      "cell_type": "markdown",
      "metadata": {
        "id": "mBt8p-_rQxVL"
      },
      "source": [
        "Perform some basic math...\n",
        "\n",
        "$nd=\\frac{a - b}{a + b}$"
      ]
    },
    {
      "cell_type": "code",
      "metadata": {
        "id": "7WNvqMtvQTS-"
      },
      "source": [
        "nd = (a - b) / (a + b)\n",
        "print(nd)"
      ],
      "execution_count": null,
      "outputs": []
    },
    {
      "cell_type": "markdown",
      "metadata": {
        "id": "7qdZzkmxmOa-"
      },
      "source": [
        "## Installing Python Packages"
      ]
    },
    {
      "cell_type": "code",
      "metadata": {
        "id": "Hxb4B6RXkMoI"
      },
      "source": [
        "!pip install xkcd"
      ],
      "execution_count": null,
      "outputs": []
    },
    {
      "cell_type": "code",
      "metadata": {
        "id": "ZJPcp8PQkR3M"
      },
      "source": [
        "import xkcd\n",
        "from IPython.display import HTML\n",
        "from IPython.display import Image"
      ],
      "execution_count": null,
      "outputs": []
    },
    {
      "cell_type": "code",
      "metadata": {
        "id": "A6zGOjJlkW0V"
      },
      "source": [
        "comic = xkcd.getRandomComic()\n",
        "comic"
      ],
      "execution_count": null,
      "outputs": []
    },
    {
      "cell_type": "code",
      "metadata": {
        "id": "2duKDuAglpN5"
      },
      "source": [
        "Image(comic.getImageLink())"
      ],
      "execution_count": null,
      "outputs": []
    },
    {
      "cell_type": "code",
      "metadata": {
        "cellView": "form",
        "id": "KELARZT2XeVi"
      },
      "source": [
        "#@title XKCD License\n",
        "HTML('''\n",
        "  This work is licensed under a <a href=\"http://creativecommons.org/licenses/by-nc/2.5/\">Creative Commons Attribution-NonCommercial 2.5 License</a>.\n",
        "  ''')"
      ],
      "execution_count": null,
      "outputs": []
    },
    {
      "cell_type": "markdown",
      "metadata": {
        "id": "2spmfJutkbrx"
      },
      "source": [
        "## Additional Rich Text Elements "
      ]
    },
    {
      "cell_type": "markdown",
      "metadata": {
        "id": "QURHx4B_kg3s"
      },
      "source": [
        "We can use Colab to display a Google Slides document that discusses how to use Colab. (Quite circular, I know...)\n",
        "\n",
        "To display slides, we can use the [IFrame](https://ipython.readthedocs.io/en/stable/api/generated/IPython.display.html#IPython.display.IFrame) class in the [IPython display](https://ipython.readthedocs.io/en/stable/api/generated/IPython.display.html) module."
      ]
    },
    {
      "cell_type": "code",
      "metadata": {
        "id": "3oe-GmL5HsGo"
      },
      "source": [
        "from IPython.display import IFrame\n",
        "from IPython.display import HTML\n",
        "\n",
        "google_slides_URL =  \"https://docs.google.com/presentation/d/e/2PACX-1vQiVxi1IywSVdk8-zmbjz3MiKe_hX8jAryEVIN2kJKUUKTxgWZUIKev57m6H1-UoXO5V49RQLWD4pbm/embed?slide=id.g96bfef2eea_0_18\"\n",
        "display(\n",
        "    IFrame(src=google_slides_URL, \n",
        "               width=800, \n",
        "               height=500),\n",
        "    HTML('''<a href=\"{0}\" target=\"_blank\">Here is a link to open the slides in a new tab.</a>\n",
        "         '''.format(google_slides_URL))\n",
        ")"
      ],
      "execution_count": null,
      "outputs": []
    },
    {
      "cell_type": "markdown",
      "metadata": {
        "id": "EMbrYF1kTmq9"
      },
      "source": [
        "# Earth Engine Basics"
      ]
    },
    {
      "cell_type": "markdown",
      "metadata": {
        "id": "C4cvy9PvjRTo"
      },
      "source": [
        "Import the Python packages and modules that will be used in this notebook."
      ]
    },
    {
      "cell_type": "code",
      "metadata": {
        "id": "ZejO-yWsfmMa"
      },
      "source": [
        "import ee                          # Earth Engine client library\n",
        "import folium                      # For displaying an interactive map"
      ],
      "execution_count": null,
      "outputs": []
    },
    {
      "cell_type": "markdown",
      "metadata": {
        "id": "LAY1AGITlb8-"
      },
      "source": [
        "## Initialize Earth Engine"
      ]
    },
    {
      "cell_type": "markdown",
      "metadata": {
        "id": "Qb0TvTL0jzq-"
      },
      "source": [
        "Authorize access to Earth Engine. "
      ]
    },
    {
      "cell_type": "code",
      "metadata": {
        "id": "DGR2D9pHfpmt"
      },
      "source": [
        "ee.Authenticate()"
      ],
      "execution_count": null,
      "outputs": []
    },
    {
      "cell_type": "markdown",
      "metadata": {
        "id": "ZoiU0lXMj-B0"
      },
      "source": [
        "Initialize the Earth Engine package, which creates objects and methods based on what is currently available the backend servers."
      ]
    },
    {
      "cell_type": "code",
      "metadata": {
        "id": "mK7OH88YhJSq"
      },
      "source": [
        "ee.Initialize()"
      ],
      "execution_count": null,
      "outputs": []
    },
    {
      "cell_type": "markdown",
      "metadata": {
        "id": "dnMVNZqKI2j2"
      },
      "source": [
        "## Analysis"
      ]
    },
    {
      "cell_type": "markdown",
      "metadata": {
        "id": "IHHYYAJFxHlo"
      },
      "source": [
        "### Define an image object"
      ]
    },
    {
      "cell_type": "markdown",
      "metadata": {
        "id": "njQf4MQGoeV5"
      },
      "source": [
        "Load up a simple image, using an Image ID.\n",
        "\n",
        "The ID string `\"USGS/SRTMGL1_003\"` can be found on the [NASA SRTM Digital Elevation 30m](https://developers.google.com/earth-engine/datasets/catalog/USGS_SRTMGL1_003) dataset description page of the [Earth Engine Data Catalog](https://developers.google.com/earth-engine/datasets/catalog/)."
      ]
    },
    {
      "cell_type": "code",
      "metadata": {
        "id": "c4mF9QQ7h87r"
      },
      "source": [
        "dem = ee.Image(\"USGS/SRTMGL1_003\")"
      ],
      "execution_count": null,
      "outputs": []
    },
    {
      "cell_type": "markdown",
      "metadata": {
        "id": "P9kbNubEw_je"
      },
      "source": [
        "### Print information about the image object"
      ]
    },
    {
      "cell_type": "markdown",
      "metadata": {
        "id": "OGkoqp5OpULh"
      },
      "source": [
        "Print out the definition of the object."
      ]
    },
    {
      "cell_type": "code",
      "metadata": {
        "id": "lBigUGx-F08t"
      },
      "source": [
        "print(dem)"
      ],
      "execution_count": null,
      "outputs": []
    },
    {
      "cell_type": "markdown",
      "metadata": {
        "id": "f-tOMjLOpKeh"
      },
      "source": [
        "Print out metadata for the object. The method [getInfo()](https://developers.google.com/earth-engine/apidocs/ee-image-getinfo) is used to request information about an object from the Earth Engine backend servers."
      ]
    },
    {
      "cell_type": "code",
      "metadata": {
        "id": "Zw8pk7BwJHWa"
      },
      "source": [
        "dem.getInfo()"
      ],
      "execution_count": null,
      "outputs": []
    },
    {
      "cell_type": "markdown",
      "metadata": {
        "id": "SngDHOkUKBUb"
      },
      "source": [
        "### Display a static image "
      ]
    },
    {
      "cell_type": "code",
      "metadata": {
        "id": "OfZyePevJLGx"
      },
      "source": [
        "# Set visualization parameters and convert to a 3-band RGB image.\n",
        "vis_params = {\n",
        "  'bands': 'elevation',\n",
        "  'min': 0,\n",
        "  'max': 4000,\n",
        "  'palette': ['006633', 'E5FFCC', '662A00', 'D8D8D8', 'F5F5F5']\n",
        "}\n",
        "rgb = dem.visualize(**vis_params)\n",
        "# Display the image.\n",
        "Image(url = rgb.getThumbURL({'dimensions': 512}))"
      ],
      "execution_count": null,
      "outputs": []
    },
    {
      "cell_type": "markdown",
      "metadata": {
        "id": "0tr7nh6Rs0VQ"
      },
      "source": [
        "### Display an interactive map"
      ]
    },
    {
      "cell_type": "markdown",
      "metadata": {
        "id": "0XI58hpKs8UG"
      },
      "source": [
        "By default, Colab includes the [`folium`](https://python-visualization.github.io/folium/) package, which can be used to create interactive maps. The following cell adds a method (`add_ee_layer`) for displaying Earth Engine tiles."
      ]
    },
    {
      "cell_type": "code",
      "metadata": {
        "id": "7l3b0xzGhVOc"
      },
      "source": [
        "# Define a method for displaying Earth Engine image tiles to folium map.\n",
        "def add_ee_layer(self, ee_image_object, vis_params, name):\n",
        "  map_id_dict = ee.Image(ee_image_object).getMapId(vis_params)\n",
        "  folium.raster_layers.TileLayer(\n",
        "    tiles = map_id_dict['tile_fetcher'].url_format,\n",
        "    attr = 'Map Data &copy; <a href=\"https://earthengine.google.com/\">Google Earth Engine</a>',\n",
        "    name = name,\n",
        "    overlay = True,\n",
        "    control = True\n",
        "  ).add_to(self)\n",
        "folium.Map.add_ee_layer = add_ee_layer"
      ],
      "execution_count": null,
      "outputs": []
    },
    {
      "cell_type": "code",
      "metadata": {
        "id": "J5JE75Op8bAH"
      },
      "source": [
        "# Create a folium map object.\n",
        "my_map = folium.Map(location=[20, 0], zoom_start=3, height=500)\n",
        "\n",
        "# Add the elevation model to the map object.\n",
        "my_map.add_ee_layer(dem.updateMask(dem.gt(0)), vis_params, 'DEM')\n",
        "\n",
        "# Display the map in the notebook.\n",
        "display(my_map)"
      ],
      "execution_count": null,
      "outputs": []
    },
    {
      "cell_type": "markdown",
      "metadata": {
        "id": "vhX5ZUS2To5x"
      },
      "source": [
        "# Collaboration Features"
      ]
    },
    {
      "cell_type": "markdown",
      "metadata": {
        "id": "o8df0hApTwoo"
      },
      "source": [
        "## Saving options\n",
        "\n",
        "* Save a copy in Drive\n",
        "* Save as a GitHub Gist\n",
        "* Save a copy in GitHub\n",
        "\n"
      ]
    },
    {
      "cell_type": "markdown",
      "metadata": {
        "id": "Ees1oqhTVy-q"
      },
      "source": [
        "## Adding Comments\n",
        "\n",
        "* Notebooks saved on Google Drive allows for file sharing and comments."
      ]
    },
    {
      "cell_type": "markdown",
      "metadata": {
        "id": "gUkbqSUDoU12"
      },
      "source": [
        "# So much more to explore..."
      ]
    },
    {
      "cell_type": "code",
      "metadata": {
        "id": "X4AUYl22ocE8"
      },
      "source": [
        "dir(ee.Image)"
      ],
      "execution_count": null,
      "outputs": []
    },
    {
      "cell_type": "markdown",
      "metadata": {
        "id": "9rzq5JAMIfKF"
      },
      "source": [
        "# Wrapping Up"
      ]
    },
    {
      "cell_type": "markdown",
      "metadata": {
        "id": "bzuzuLzRM-lY"
      },
      "source": [
        "## ***Thank you!***"
      ]
    }
  ]
}