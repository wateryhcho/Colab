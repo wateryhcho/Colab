{
  "nbformat": 4,
  "nbformat_minor": 0,
  "metadata": {
    "colab": {
      "name": "Introduction to Earth Engine + Colab.ipynb",
      "provenance": [],
      "collapsed_sections": [],
      "toc_visible": true,
      "include_colab_link": true
    },
    "kernelspec": {
      "name": "python3",
      "display_name": "Python 3"
    }
  },
  "cells": [
    {
      "cell_type": "markdown",
      "metadata": {
        "id": "view-in-github",
        "colab_type": "text"
      },
      "source": [
        "<a href=\"https://colab.research.google.com/github/wateryhcho/Colaboratory/blob/main/ipynb/Introduction_to_Earth_Engine_%2B_Colab.ipynb\" target=\"_parent\"><img src=\"https://colab.research.google.com/assets/colab-badge.svg\" alt=\"Open In Colab\"/></a>"
      ]
    },
    {
      "cell_type": "markdown",
      "metadata": {
        "id": "i0wm0ZJGbOxo"
      },
      "source": [
        "This notebook gives a brief introduction of using Colab with Earth Engine and is available at: https://g.co/earth/colab-ee"
      ]
    },
    {
      "cell_type": "markdown",
      "metadata": {
        "id": "Rdp7SvLsQNd3"
      },
      "source": [
        "# Colab Basics\n"
      ]
    },
    {
      "cell_type": "markdown",
      "metadata": {
        "id": "koqjVt9zQ6xc"
      },
      "source": [
        "## Basic example"
      ]
    },
    {
      "cell_type": "markdown",
      "metadata": {
        "id": "3Z_f2D0PQnO8"
      },
      "source": [
        "Define a few variables:"
      ]
    },
    {
      "cell_type": "code",
      "metadata": {
        "id": "DkvjDUfGQfhX"
      },
      "source": [
        "# This is a code block.\n",
        "a = 100\n",
        "b = 80"
      ],
      "execution_count": 1,
      "outputs": []
    },
    {
      "cell_type": "markdown",
      "metadata": {
        "id": "mBt8p-_rQxVL"
      },
      "source": [
        "Perform some basic math...\n",
        "\n",
        "$nd=\\frac{a - b}{a + b}$"
      ]
    },
    {
      "cell_type": "code",
      "metadata": {
        "id": "7WNvqMtvQTS-",
        "outputId": "e53bbb99-00bc-4467-f8f4-1c704c03309f",
        "colab": {
          "base_uri": "https://localhost:8080/"
        }
      },
      "source": [
        "nd = (a - b) / (a + b)\n",
        "print(nd)"
      ],
      "execution_count": 2,
      "outputs": [
        {
          "output_type": "stream",
          "name": "stdout",
          "text": [
            "0.1111111111111111\n"
          ]
        }
      ]
    },
    {
      "cell_type": "markdown",
      "metadata": {
        "id": "7qdZzkmxmOa-"
      },
      "source": [
        "## Installing Python Packages"
      ]
    },
    {
      "cell_type": "code",
      "metadata": {
        "id": "Hxb4B6RXkMoI",
        "outputId": "ee479055-473b-4faa-f6b0-de96358ac25c",
        "colab": {
          "base_uri": "https://localhost:8080/"
        }
      },
      "source": [
        "!pip install xkcd"
      ],
      "execution_count": 3,
      "outputs": [
        {
          "output_type": "stream",
          "name": "stdout",
          "text": [
            "Collecting xkcd\n",
            "  Downloading xkcd-2.4.2.tar.gz (10 kB)\n",
            "Building wheels for collected packages: xkcd\n",
            "  Building wheel for xkcd (setup.py) ... \u001b[?25l\u001b[?25hdone\n",
            "  Created wheel for xkcd: filename=xkcd-2.4.2-py3-none-any.whl size=9195 sha256=e72bfca09e348127eee444e2f07affed1315623a6bf0ef461ed3b7376b4f27ff\n",
            "  Stored in directory: /root/.cache/pip/wheels/ba/62/74/4808cbf8cf843406a45b1671e9da7ed7beb13dfcb24938745d\n",
            "Successfully built xkcd\n",
            "Installing collected packages: xkcd\n",
            "Successfully installed xkcd-2.4.2\n"
          ]
        }
      ]
    },
    {
      "cell_type": "code",
      "metadata": {
        "id": "ZJPcp8PQkR3M"
      },
      "source": [
        "import xkcd\n",
        "from IPython.display import HTML\n",
        "from IPython.display import Image"
      ],
      "execution_count": 4,
      "outputs": []
    },
    {
      "cell_type": "code",
      "metadata": {
        "id": "A6zGOjJlkW0V",
        "outputId": "d533ecb0-bbc1-4305-a12f-d713ad4b88c6",
        "colab": {
          "base_uri": "https://localhost:8080/"
        }
      },
      "source": [
        "comic = xkcd.getRandomComic()\n",
        "comic"
      ],
      "execution_count": 5,
      "outputs": [
        {
          "output_type": "execute_result",
          "data": {
            "text/plain": [
              "Comic object for https://www.xkcd.com/1840"
            ]
          },
          "metadata": {},
          "execution_count": 5
        }
      ]
    },
    {
      "cell_type": "code",
      "metadata": {
        "id": "2duKDuAglpN5",
        "outputId": "ad0885d7-45d2-4dd6-dc00-31aa18c4dae2",
        "colab": {
          "base_uri": "https://localhost:8080/",
          "height": 359
        }
      },
      "source": [
        "Image(comic.getImageLink())"
      ],
      "execution_count": 6,
      "outputs": [
        {
          "output_type": "execute_result",
          "data": {
            "image/png": "[encoded data removed]",
            "text/plain": [
              "<IPython.core.display.Image object>"
            ]
          },
          "metadata": {},
          "execution_count": 6
        }
      ]
    },
    {
      "cell_type": "code",
      "metadata": {
        "cellView": "form",
        "id": "KELARZT2XeVi",
        "outputId": "26c5b9c8-8dbb-4a65-8a33-403a22911313",
        "colab": {
          "base_uri": "https://localhost:8080/",
          "height": 34
        }
      },
      "source": [
        "#@title XKCD License\n",
        "HTML('''\n",
        "  This work is licensed under a <a href=\"http://creativecommons.org/licenses/by-nc/2.5/\">Creative Commons Attribution-NonCommercial 2.5 License</a>.\n",
        "  ''')"
      ],
      "execution_count": 7,
      "outputs": [
        {
          "output_type": "execute_result",
          "data": {
            "text/html": [
              "\n",
              "  This work is licensed under a <a href=\"http://creativecommons.org/licenses/by-nc/2.5/\">Creative Commons Attribution-NonCommercial 2.5 License</a>.\n",
              "  "
            ],
            "text/plain": [
              "<IPython.core.display.HTML object>"
            ]
          },
          "metadata": {},
          "execution_count": 7
        }
      ]
    },
    {
      "cell_type": "markdown",
      "metadata": {
        "id": "2spmfJutkbrx"
      },
      "source": [
        "## Additional Rich Text Elements "
      ]
    },
    {
      "cell_type": "markdown",
      "metadata": {
        "id": "QURHx4B_kg3s"
      },
      "source": [
        "We can use Colab to display a Google Slides document that discusses how to use Colab. (Quite circular, I know...)\n",
        "\n",
        "To display slides, we can use the [IFrame](https://ipython.readthedocs.io/en/stable/api/generated/IPython.display.html#IPython.display.IFrame) class in the [IPython display](https://ipython.readthedocs.io/en/stable/api/generated/IPython.display.html) module."
      ]
    },
    {
      "cell_type": "code",
      "metadata": {
        "id": "3oe-GmL5HsGo",
        "outputId": "59bc6493-5baa-4ca2-e0f8-80f6073b5d44",
        "colab": {
          "base_uri": "https://localhost:8080/",
          "height": 539
        }
      },
      "source": [
        "from IPython.display import IFrame\n",
        "from IPython.display import HTML\n",
        "\n",
        "google_slides_URL =  \"https://docs.google.com/presentation/d/e/2PACX-1vQiVxi1IywSVdk8-zmbjz3MiKe_hX8jAryEVIN2kJKUUKTxgWZUIKev57m6H1-UoXO5V49RQLWD4pbm/embed?slide=id.g96bfef2eea_0_18\"\n",
        "display(\n",
        "    IFrame(src=google_slides_URL, \n",
        "               width=800, \n",
        "               height=500),\n",
        "    HTML('''<a href=\"{0}\" target=\"_blank\">Here is a link to open the slides in a new tab.</a>\n",
        "         '''.format(google_slides_URL))\n",
        ")"
      ],
      "execution_count": 8,
      "outputs": [
        {
          "output_type": "display_data",
          "data": {
            "text/html": [
              "\n",
              "        <iframe\n",
              "            width=\"800\"\n",
              "            height=\"500\"\n",
              "            src=\"https://docs.google.com/presentation/d/e/2PACX-1vQiVxi1IywSVdk8-zmbjz3MiKe_hX8jAryEVIN2kJKUUKTxgWZUIKev57m6H1-UoXO5V49RQLWD4pbm/embed?slide=id.g96bfef2eea_0_18\"\n",
              "            frameborder=\"0\"\n",
              "            allowfullscreen\n",
              "        ></iframe>\n",
              "        "
            ],
            "text/plain": [
              "<IPython.lib.display.IFrame at 0x7fd00b60f450>"
            ]
          },
          "metadata": {}
        },
        {
          "output_type": "display_data",
          "data": {
            "text/html": [
              "<a href=\"https://docs.google.com/presentation/d/e/2PACX-1vQiVxi1IywSVdk8-zmbjz3MiKe_hX8jAryEVIN2kJKUUKTxgWZUIKev57m6H1-UoXO5V49RQLWD4pbm/embed?slide=id.g96bfef2eea_0_18\" target=\"_blank\">Here is a link to open the slides in a new tab.</a>\n",
              "         "
            ],
            "text/plain": [
              "<IPython.core.display.HTML object>"
            ]
          },
          "metadata": {}
        }
      ]
    },
    {
      "cell_type": "markdown",
      "metadata": {
        "id": "EMbrYF1kTmq9"
      },
      "source": [
        "# Earth Engine Basics"
      ]
    },
    {
      "cell_type": "markdown",
      "metadata": {
        "id": "C4cvy9PvjRTo"
      },
      "source": [
        "Import the Python packages and modules that will be used in this notebook."
      ]
    },
    {
      "cell_type": "code",
      "metadata": {
        "id": "ZejO-yWsfmMa"
      },
      "source": [
        "import ee                          # Earth Engine client library\n",
        "import folium                      # For displaying an interactive map"
      ],
      "execution_count": 9,
      "outputs": []
    },
    {
      "cell_type": "markdown",
      "metadata": {
        "id": "LAY1AGITlb8-"
      },
      "source": [
        "## Initialize Earth Engine"
      ]
    },
    {
      "cell_type": "markdown",
      "metadata": {
        "id": "Qb0TvTL0jzq-"
      },
      "source": [
        "Authorize access to Earth Engine. "
      ]
    },
    {
      "cell_type": "code",
      "metadata": {
        "id": "DGR2D9pHfpmt",
        "outputId": "65befb97-921e-4ab3-d94f-06b583fd7b58",
        "colab": {
          "base_uri": "https://localhost:8080/"
        }
      },
      "source": [
        "ee.Authenticate()"
      ],
      "execution_count": 10,
      "outputs": [
        {
          "output_type": "stream",
          "name": "stdout",
          "text": [
            "To authorize access needed by Earth Engine, open the following URL in a web browser and follow the instructions. If the web browser does not start automatically, please manually browse the URL below.\n",
            "\n",
            "    https://accounts.google.com/o/oauth2/auth?client_id=517222506229-vsmmajv00ul0bs7p89v5m89qs8eb9359.apps.googleusercontent.com&scope=https%3A%2F%2Fwww.googleapis.com%2Fauth%2Fearthengine+https%3A%2F%2Fwww.googleapis.com%2Fauth%2Fdevstorage.full_control&redirect_uri=urn%3Aietf%3Awg%3Aoauth%3A2.0%3Aoob&response_type=code&code_challenge=YI1uFWFTZjdHpBxXUdq8DJwJlH4OqpnBu5ca1FtIP5Y&code_challenge_method=S256\n",
            "\n",
            "The authorization workflow will generate a code, which you should paste in the box below. \n",
            "Enter verification code: 4/1AX4XfWgCl7IvMBUDUnDruicOq10OS4xcnqoXxpUC2K8c7cFqgHezIlncFPE\n",
            "\n",
            "Successfully saved authorization token.\n"
          ]
        }
      ]
    },
    {
      "cell_type": "markdown",
      "metadata": {
        "id": "ZoiU0lXMj-B0"
      },
      "source": [
        "Initialize the Earth Engine package, which creates objects and methods based on what is currently available the backend servers."
      ]
    },
    {
      "cell_type": "code",
      "metadata": {
        "id": "mK7OH88YhJSq"
      },
      "source": [
        "ee.Initialize()"
      ],
      "execution_count": 11,
      "outputs": []
    },
    {
      "cell_type": "markdown",
      "metadata": {
        "id": "dnMVNZqKI2j2"
      },
      "source": [
        "## Analysis"
      ]
    },
    {
      "cell_type": "markdown",
      "metadata": {
        "id": "IHHYYAJFxHlo"
      },
      "source": [
        "### Define an image object"
      ]
    },
    {
      "cell_type": "markdown",
      "metadata": {
        "id": "njQf4MQGoeV5"
      },
      "source": [
        "Load up a simple image, using an Image ID.\n",
        "\n",
        "The ID string `\"USGS/SRTMGL1_003\"` can be found on the [NASA SRTM Digital Elevation 30m](https://developers.google.com/earth-engine/datasets/catalog/USGS_SRTMGL1_003) dataset description page of the [Earth Engine Data Catalog](https://developers.google.com/earth-engine/datasets/catalog/)."
      ]
    },
    {
      "cell_type": "code",
      "metadata": {
        "id": "c4mF9QQ7h87r"
      },
      "source": [
        "dem = ee.Image(\"USGS/SRTMGL1_003\")"
      ],
      "execution_count": 12,
      "outputs": []
    },
    {
      "cell_type": "markdown",
      "metadata": {
        "id": "P9kbNubEw_je"
      },
      "source": [
        "### Print information about the image object"
      ]
    },
    {
      "cell_type": "markdown",
      "metadata": {
        "id": "OGkoqp5OpULh"
      },
      "source": [
        "Print out the definition of the object."
      ]
    },
    {
      "cell_type": "code",
      "metadata": {
        "id": "lBigUGx-F08t",
        "outputId": "4369a1a2-dd19-4eb2-b37d-018b59a9dc38",
        "colab": {
          "base_uri": "https://localhost:8080/"
        }
      },
      "source": [
        "print(dem)"
      ],
      "execution_count": 13,
      "outputs": [
        {
          "output_type": "stream",
          "name": "stdout",
          "text": [
            "ee.Image({\n",
            "  \"functionInvocationValue\": {\n",
            "    \"functionName\": \"Image.load\",\n",
            "    \"arguments\": {\n",
            "      \"id\": {\n",
            "        \"constantValue\": \"USGS/SRTMGL1_003\"\n",
            "      }\n",
            "    }\n",
            "  }\n",
            "})\n"
          ]
        }
      ]
    },
    {
      "cell_type": "markdown",
      "metadata": {
        "id": "f-tOMjLOpKeh"
      },
      "source": [
        "Print out metadata for the object. The method [getInfo()](https://developers.google.com/earth-engine/apidocs/ee-image-getinfo) is used to request information about an object from the Earth Engine backend servers."
      ]
    },
    {
      "cell_type": "code",
      "metadata": {
        "id": "Zw8pk7BwJHWa",
        "outputId": "782732e6-1dec-4f15-e163-02ba231c4cb1",
        "colab": {
          "base_uri": "https://localhost:8080/"
        }
      },
      "source": [
        "dem.getInfo()"
      ],
      "execution_count": 14,
      "outputs": [
        {
          "output_type": "execute_result",
          "data": {
            "text/plain": [
              "{'bands': [{'crs': 'EPSG:4326',\n",
              "   'crs_transform': [0.0002777777777777778,\n",
              "    0,\n",
              "    -180.0001388888889,\n",
              "    0,\n",
              "    -0.0002777777777777778,\n",
              "    60.00013888888889],\n",
              "   'data_type': {'max': 32767,\n",
              "    'min': -32768,\n",
              "    'precision': 'int',\n",
              "    'type': 'PixelType'},\n",
              "   'dimensions': [1296001, 417601],\n",
              "   'id': 'elevation'}],\n",
              " 'id': 'USGS/SRTMGL1_003',\n",
              " 'properties': {'date_range': [950227200000, 951177600000],\n",
              "  'description': '<p>The Shuttle Radar Topography Mission (SRTM, see <a href=\"https://onlinelibrary.wiley.com/doi/10.1029/2005RG000183/full\">Farr\\net al. 2007</a>)\\ndigital elevation data is an international research effort that\\nobtained digital elevation models on a near-global scale. This\\nSRTM V3 product (SRTM Plus) is provided by NASA JPL\\nat a resolution of 1 arc-second (approximately 30m).</p><p>This dataset has undergone a void-filling process using open-source data\\n(ASTER GDEM2, GMTED2010, and NED), as opposed to other versions that\\ncontain voids or have been void-filled with commercial sources.\\nFor more information on the different versions see the\\n<a href=\"https://lpdaac.usgs.gov/documents/13/SRTM_Quick_Guide.pdf\">SRTM Quick Guide</a>.</p><p>Documentation:</p><ul><li><p><a href=\"https://lpdaac.usgs.gov/documents/179/SRTM_User_Guide_V3.pdf\">User&#39;s Guide</a></p></li><li><p><a href=\"https://lpdaac.usgs.gov/documents/13/SRTM_Quick_Guide.pdf\">General Documentation</a></p></li><li><p><a href=\"https://doi.org/10.1029/2005RG000183\">Algorithm Theoretical Basis Document (ATBD)</a></p></li></ul><p><b>Provider: <a href=\"https://cmr.earthdata.nasa.gov/search/concepts/C1000000240-LPDAAC_ECS.html\">NASA / USGS / JPL-Caltech</a></b><br><p><b>Bands</b><table class=\"eecat\"><tr><th scope=\"col\">Name</th><th scope=\"col\">Description</th></tr><tr><td>elevation</td><td><p>Elevation</p></td></tr></table><p><b>Terms of Use</b><br><p>Unless otherwise noted, images and video on JPL public\\nweb sites (public sites ending with a jpl.nasa.gov address) may\\nbe used for any purpose without prior permission. For more information\\nand exceptions visit the <a href=\"https://www.jpl.nasa.gov/imagepolicy/\">JPL Image Use Policy site</a>.</p><p><b>Suggested citation(s)</b><ul><li><p>Farr, T.G., Rosen, P.A., Caro, E., Crippen, R., Duren, R., Hensley,\\nS., Kobrick, M., Paller, M., Rodriguez, E., Roth, L., Seal, D.,\\nShaffer, S., Shimada, J., Umland, J., Werner, M., Oskin, M., Burbank,\\nD., and Alsdorf, D.E., 2007, The shuttle radar topography mission:\\nReviews of Geophysics, v. 45, no. 2, RG2004, at\\n<a href=\"https://doi.org/10.1029/2005RG000183\">https://doi.org/10.1029/2005RG000183</a>.</p></li></ul><style>\\n  table.eecat {\\n  border: 1px solid black;\\n  border-collapse: collapse;\\n  font-size: 13px;\\n  }\\n  table.eecat td, tr, th {\\n  text-align: left; vertical-align: top;\\n  border: 1px solid gray; padding: 3px;\\n  }\\n  td.nobreak { white-space: nowrap; }\\n</style>',\n",
              "  'keywords': ['dem',\n",
              "   'elevation',\n",
              "   'geophysical',\n",
              "   'nasa',\n",
              "   'srtm',\n",
              "   'topography',\n",
              "   'usgs'],\n",
              "  'period': 0,\n",
              "  'product_tags': ['srtm', 'elevation', 'topography', 'dem', 'geophysical'],\n",
              "  'provider': 'NASA / USGS / JPL-Caltech',\n",
              "  'provider_url': 'https://cmr.earthdata.nasa.gov/search/concepts/C1000000240-LPDAAC_ECS.html',\n",
              "  'sample': 'https://mw1.google.com/ges/dd/images/SRTM90_V4_sample.png',\n",
              "  'source_tags': ['nasa', 'usgs'],\n",
              "  'system:asset_size': 132792638252,\n",
              "  'system:visualization_0_bands': 'elevation',\n",
              "  'system:visualization_0_gamma': '1.6',\n",
              "  'system:visualization_0_max': '6000.0',\n",
              "  'system:visualization_0_min': '0.0',\n",
              "  'system:visualization_0_name': 'Elevation',\n",
              "  'tags': ['dem',\n",
              "   'elevation',\n",
              "   'geophysical',\n",
              "   'nasa',\n",
              "   'srtm',\n",
              "   'topography',\n",
              "   'usgs'],\n",
              "  'thumb': 'https://mw1.google.com/ges/dd/images/SRTM90_V4_thumb.png',\n",
              "  'title': 'NASA SRTM Digital Elevation 30m',\n",
              "  'type_name': 'Image',\n",
              "  'visualization_0_bands': 'elevation',\n",
              "  'visualization_0_gamma': '1.6',\n",
              "  'visualization_0_max': '6000.0',\n",
              "  'visualization_0_min': '0.0',\n",
              "  'visualization_0_name': 'Elevation'},\n",
              " 'type': 'Image',\n",
              " 'version': 1641990767055141}"
            ]
          },
          "metadata": {},
          "execution_count": 14
        }
      ]
    },
    {
      "cell_type": "markdown",
      "metadata": {
        "id": "SngDHOkUKBUb"
      },
      "source": [
        "### Display a static image "
      ]
    },
    {
      "cell_type": "code",
      "metadata": {
        "id": "OfZyePevJLGx",
        "outputId": "1ff6f998-8f26-4e2c-b7b6-6502af0db710",
        "colab": {
          "base_uri": "https://localhost:8080/",
          "height": 277
        }
      },
      "source": [
        "# Set visualization parameters and convert to a 3-band RGB image.\n",
        "vis_params = {\n",
        "  'bands': 'elevation',\n",
        "  'min': 0,\n",
        "  'max': 4000,\n",
        "  'palette': ['006633', 'E5FFCC', '662A00', 'D8D8D8', 'F5F5F5']\n",
        "}\n",
        "rgb = dem.visualize(**vis_params)\n",
        "# Display the image.\n",
        "Image(url = rgb.getThumbURL({'dimensions': 512}))"
      ],
      "execution_count": 15,
      "outputs": [
        {
          "output_type": "execute_result",
          "data": {
            "text/html": [
              "<img src=\"https://earthengine.googleapis.com/v1alpha/projects/earthengine-legacy/thumbnails/5c812e99ff879a49d3c9ef0c77d05fa7-392c3c2e1064c88234d4fc215f2af374:getPixels\"/>"
            ],
            "text/plain": [
              "<IPython.core.display.Image object>"
            ]
          },
          "metadata": {},
          "execution_count": 15
        }
      ]
    },
    {
      "cell_type": "markdown",
      "metadata": {
        "id": "0tr7nh6Rs0VQ"
      },
      "source": [
        "### Display an interactive map"
      ]
    },
    {
      "cell_type": "markdown",
      "metadata": {
        "id": "0XI58hpKs8UG"
      },
      "source": [
        "By default, Colab includes the [`folium`](https://python-visualization.github.io/folium/) package, which can be used to create interactive maps. The following cell adds a method (`add_ee_layer`) for displaying Earth Engine tiles."
      ]
    },
    {
      "cell_type": "code",
      "metadata": {
        "id": "7l3b0xzGhVOc"
      },
      "source": [
        "# Define a method for displaying Earth Engine image tiles to folium map.\n",
        "def add_ee_layer(self, ee_image_object, vis_params, name):\n",
        "  map_id_dict = ee.Image(ee_image_object).getMapId(vis_params)\n",
        "  folium.raster_layers.TileLayer(\n",
        "    tiles = map_id_dict['tile_fetcher'].url_format,\n",
        "    attr = 'Map Data &copy; <a href=\"https://earthengine.google.com/\">Google Earth Engine</a>',\n",
        "    name = name,\n",
        "    overlay = True,\n",
        "    control = True\n",
        "  ).add_to(self)\n",
        "folium.Map.add_ee_layer = add_ee_layer"
      ],
      "execution_count": 16,
      "outputs": []
    },
    {
      "cell_type": "code",
      "metadata": {
        "id": "J5JE75Op8bAH",
        "outputId": "cfa70e08-1322-41ed-f1fc-c6e62ab4797c",
        "colab": {
          "base_uri": "https://localhost:8080/",
          "height": 915
        }
      },
      "source": [
        "# Create a folium map object.\n",
        "my_map = folium.Map(location=[20, 0], zoom_start=3, height=500)\n",
        "\n",
        "# Add the elevation model to the map object.\n",
        "my_map.add_ee_layer(dem.updateMask(dem.gt(0)), vis_params, 'DEM')\n",
        "\n",
        "# Display the map in the notebook.\n",
        "display(my_map)"
      ],
      "execution_count": 17,
      "outputs": [
        {
          "output_type": "display_data",
          "data": {
            "text/html": [
              "<div style=\"width:100%;\"><div style=\"position:relative;width:100%;height:0;padding-bottom:60%;\"><span style=\"color:#565656\">Make this Notebook Trusted to load map: File -> Trust Notebook</span><iframe src=\"about:blank\" style=\"position:absolute;width:100%;height:100%;left:0;top:0;border:none !important;\" data-html=%3C%21DOCTYPE%20html%3E%0A%3Chead%3E%20%20%20%20%0A%20%20%20%20%3Cmeta%20http-equiv%3D%22content-type%22%20content%3D%22text/html%3B%20charset%3DUTF-8%22%20/%3E%0A%20%20%20%20%3Cscript%3EL_PREFER_CANVAS%3Dfalse%3B%20L_NO_TOUCH%3Dfalse%3B%20L_DISABLE_3D%3Dfalse%3B%3C/script%3E%0A%20%20%20%20%3Cscript%20src%3D%22https%3A//cdn.jsdelivr.net/npm/leaflet%401.4.0/dist/leaflet.js%22%3E%3C/script%3E%0A%20%20%20%20%3Cscript%20src%3D%22https%3A//code.jquery.com/jquery-1.12.4.min.js%22%3E%3C/script%3E%0A%20%20%20%20%3Cscript%20src%3D%22https%3A//maxcdn.bootstrapcdn.com/bootstrap/3.2.0/js/bootstrap.min.js%22%3E%3C/script%3E%0A%20%20%20%20%3Cscript%20src%3D%22https%3A//cdnjs.cloudflare.com/ajax/libs/Leaflet.awesome-markers/2.0.2/leaflet.awesome-markers.js%22%3E%3C/script%3E%0A%20%20%20%20%3Clink%20rel%3D%22stylesheet%22%20href%3D%22https%3A//cdn.jsdelivr.net/npm/leaflet%401.4.0/dist/leaflet.css%22/%3E%0A%20%20%20%20%3Clink%20rel%3D%22stylesheet%22%20href%3D%22https%3A//maxcdn.bootstrapcdn.com/bootstrap/3.2.0/css/bootstrap.min.css%22/%3E%0A%20%20%20%20%3Clink%20rel%3D%22stylesheet%22%20href%3D%22https%3A//maxcdn.bootstrapcdn.com/bootstrap/3.2.0/css/bootstrap-theme.min.css%22/%3E%0A%20%20%20%20%3Clink%20rel%3D%22stylesheet%22%20href%3D%22https%3A//maxcdn.bootstrapcdn.com/font-awesome/4.6.3/css/font-awesome.min.css%22/%3E%0A%20%20%20%20%3Clink%20rel%3D%22stylesheet%22%20href%3D%22https%3A//cdnjs.cloudflare.com/ajax/libs/Leaflet.awesome-markers/2.0.2/leaflet.awesome-markers.css%22/%3E%0A%20%20%20%20%3Clink%20rel%3D%22stylesheet%22%20href%3D%22https%3A//rawcdn.githack.com/python-visualization/folium/master/folium/templates/leaflet.awesome.rotate.css%22/%3E%0A%20%20%20%20%3Cstyle%3Ehtml%2C%20body%20%7Bwidth%3A%20100%25%3Bheight%3A%20100%25%3Bmargin%3A%200%3Bpadding%3A%200%3B%7D%3C/style%3E%0A%20%20%20%20%3Cstyle%3E%23map%20%7Bposition%3Aabsolute%3Btop%3A0%3Bbottom%3A0%3Bright%3A0%3Bleft%3A0%3B%7D%3C/style%3E%0A%20%20%20%20%0A%20%20%20%20%3Cmeta%20name%3D%22viewport%22%20content%3D%22width%3Ddevice-width%2C%0A%20%20%20%20%20%20%20%20initial-scale%3D1.0%2C%20maximum-scale%3D1.0%2C%20user-scalable%3Dno%22%20/%3E%0A%20%20%20%20%3Cstyle%3E%23map_f4783f0232de43d597ba35926f638a97%20%7B%0A%20%20%20%20%20%20%20%20position%3A%20relative%3B%0A%20%20%20%20%20%20%20%20width%3A%20100.0%25%3B%0A%20%20%20%20%20%20%20%20height%3A%20500.0px%3B%0A%20%20%20%20%20%20%20%20left%3A%200.0%25%3B%0A%20%20%20%20%20%20%20%20top%3A%200.0%25%3B%0A%20%20%20%20%20%20%20%20%7D%0A%20%20%20%20%3C/style%3E%0A%3C/head%3E%0A%3Cbody%3E%20%20%20%20%0A%20%20%20%20%0A%20%20%20%20%3Cdiv%20class%3D%22folium-map%22%20id%3D%22map_f4783f0232de43d597ba35926f638a97%22%20%3E%3C/div%3E%0A%3C/body%3E%0A%3Cscript%3E%20%20%20%20%0A%20%20%20%20%0A%20%20%20%20%0A%20%20%20%20%20%20%20%20var%20bounds%20%3D%20null%3B%0A%20%20%20%20%0A%0A%20%20%20%20var%20map_f4783f0232de43d597ba35926f638a97%20%3D%20L.map%28%0A%20%20%20%20%20%20%20%20%27map_f4783f0232de43d597ba35926f638a97%27%2C%20%7B%0A%20%20%20%20%20%20%20%20center%3A%20%5B20%2C%200%5D%2C%0A%20%20%20%20%20%20%20%20zoom%3A%203%2C%0A%20%20%20%20%20%20%20%20maxBounds%3A%20bounds%2C%0A%20%20%20%20%20%20%20%20layers%3A%20%5B%5D%2C%0A%20%20%20%20%20%20%20%20worldCopyJump%3A%20false%2C%0A%20%20%20%20%20%20%20%20crs%3A%20L.CRS.EPSG3857%2C%0A%20%20%20%20%20%20%20%20zoomControl%3A%20true%2C%0A%20%20%20%20%20%20%20%20%7D%29%3B%0A%0A%0A%20%20%20%20%0A%20%20%20%20var%20tile_layer_c7505f9270ab447b983d17c9c3c40dcb%20%3D%20L.tileLayer%28%0A%20%20%20%20%20%20%20%20%27https%3A//%7Bs%7D.tile.openstreetmap.org/%7Bz%7D/%7Bx%7D/%7By%7D.png%27%2C%0A%20%20%20%20%20%20%20%20%7B%0A%20%20%20%20%20%20%20%20%22attribution%22%3A%20null%2C%0A%20%20%20%20%20%20%20%20%22detectRetina%22%3A%20false%2C%0A%20%20%20%20%20%20%20%20%22maxNativeZoom%22%3A%2018%2C%0A%20%20%20%20%20%20%20%20%22maxZoom%22%3A%2018%2C%0A%20%20%20%20%20%20%20%20%22minZoom%22%3A%200%2C%0A%20%20%20%20%20%20%20%20%22noWrap%22%3A%20false%2C%0A%20%20%20%20%20%20%20%20%22opacity%22%3A%201%2C%0A%20%20%20%20%20%20%20%20%22subdomains%22%3A%20%22abc%22%2C%0A%20%20%20%20%20%20%20%20%22tms%22%3A%20false%0A%7D%29.addTo%28map_f4783f0232de43d597ba35926f638a97%29%3B%0A%20%20%20%20var%20tile_layer_3f4a80a8b5ba43f5b53d2516f4df2802%20%3D%20L.tileLayer%28%0A%20%20%20%20%20%20%20%20%27https%3A//earthengine.googleapis.com/v1alpha/projects/earthengine-legacy/maps/8e58d78162ae7137ad70702f1b2101fb-2ff33ef5492302d41ed195dd345c18be/tiles/%7Bz%7D/%7Bx%7D/%7By%7D%27%2C%0A%20%20%20%20%20%20%20%20%7B%0A%20%20%20%20%20%20%20%20%22attribution%22%3A%20%22Map%20Data%20%26copy%3B%20%3Ca%20href%3D%5C%22https%3A//earthengine.google.com/%5C%22%3EGoogle%20Earth%20Engine%3C/a%3E%22%2C%0A%20%20%20%20%20%20%20%20%22detectRetina%22%3A%20false%2C%0A%20%20%20%20%20%20%20%20%22maxNativeZoom%22%3A%2018%2C%0A%20%20%20%20%20%20%20%20%22maxZoom%22%3A%2018%2C%0A%20%20%20%20%20%20%20%20%22minZoom%22%3A%200%2C%0A%20%20%20%20%20%20%20%20%22noWrap%22%3A%20false%2C%0A%20%20%20%20%20%20%20%20%22opacity%22%3A%201%2C%0A%20%20%20%20%20%20%20%20%22subdomains%22%3A%20%22abc%22%2C%0A%20%20%20%20%20%20%20%20%22tms%22%3A%20false%0A%7D%29.addTo%28map_f4783f0232de43d597ba35926f638a97%29%3B%0A%3C/script%3E onload=\"this.contentDocument.open();this.contentDocument.write(    decodeURIComponent(this.getAttribute('data-html')));this.contentDocument.close();\" allowfullscreen webkitallowfullscreen mozallowfullscreen></iframe></div></div>"
            ],
            "text/plain": [
              "<folium.folium.Map at 0x7fd00a44d1d0>"
            ]
          },
          "metadata": {}
        }
      ]
    },
    {
      "cell_type": "markdown",
      "metadata": {
        "id": "vhX5ZUS2To5x"
      },
      "source": [
        "# Collaboration Features"
      ]
    },
    {
      "cell_type": "markdown",
      "metadata": {
        "id": "o8df0hApTwoo"
      },
      "source": [
        "## Saving options\n",
        "\n",
        "* Save a copy in Drive\n",
        "* Save as a GitHub Gist\n",
        "* Save a copy in GitHub\n",
        "\n"
      ]
    },
    {
      "cell_type": "markdown",
      "metadata": {
        "id": "Ees1oqhTVy-q"
      },
      "source": [
        "## Adding Comments\n",
        "\n",
        "* Notebooks saved on Google Drive allows for file sharing and comments."
      ]
    },
    {
      "cell_type": "markdown",
      "metadata": {
        "id": "gUkbqSUDoU12"
      },
      "source": [
        "# So much more to explore..."
      ]
    },
    {
      "cell_type": "code",
      "metadata": {
        "id": "X4AUYl22ocE8",
        "outputId": "01c74fc6-1e3e-4060-9a37-0c573c658cef",
        "colab": {
          "base_uri": "https://localhost:8080/"
        }
      },
      "source": [
        "dir(ee.Image)"
      ],
      "execution_count": 18,
      "outputs": [
        {
          "output_type": "execute_result",
          "data": {
            "text/plain": [
              "['And',\n",
              " 'Not',\n",
              " 'Or',\n",
              " '_HAS_DYNAMIC_ATTRIBUTES',\n",
              " '__class__',\n",
              " '__delattr__',\n",
              " '__dict__',\n",
              " '__dir__',\n",
              " '__doc__',\n",
              " '__eq__',\n",
              " '__format__',\n",
              " '__ge__',\n",
              " '__getattribute__',\n",
              " '__gt__',\n",
              " '__hash__',\n",
              " '__init__',\n",
              " '__init_subclass__',\n",
              " '__le__',\n",
              " '__lt__',\n",
              " '__module__',\n",
              " '__ne__',\n",
              " '__new__',\n",
              " '__reduce__',\n",
              " '__reduce_ex__',\n",
              " '__repr__',\n",
              " '__setattr__',\n",
              " '__sizeof__',\n",
              " '__str__',\n",
              " '__subclasshook__',\n",
              " '__weakref__',\n",
              " '_apply_crs_and_affine',\n",
              " '_apply_selection_and_scale',\n",
              " '_apply_spatial_transformations',\n",
              " '_apply_visualization',\n",
              " '_build_download_id_image',\n",
              " '_cast',\n",
              " '_initialized',\n",
              " 'abs',\n",
              " 'acos',\n",
              " 'add',\n",
              " 'addBands',\n",
              " 'arrayAccum',\n",
              " 'arrayArgmax',\n",
              " 'arrayCat',\n",
              " 'arrayDimensions',\n",
              " 'arrayDotProduct',\n",
              " 'arrayFlatten',\n",
              " 'arrayGet',\n",
              " 'arrayLength',\n",
              " 'arrayLengths',\n",
              " 'arrayMask',\n",
              " 'arrayPad',\n",
              " 'arrayProject',\n",
              " 'arrayReduce',\n",
              " 'arrayRepeat',\n",
              " 'arrayReshape',\n",
              " 'arraySlice',\n",
              " 'arraySort',\n",
              " 'arrayTranspose',\n",
              " 'aside',\n",
              " 'asin',\n",
              " 'atan',\n",
              " 'atan2',\n",
              " 'bandNames',\n",
              " 'bandTypes',\n",
              " 'bitCount',\n",
              " 'bitsToArrayImage',\n",
              " 'bitwiseAnd',\n",
              " 'bitwiseNot',\n",
              " 'bitwiseOr',\n",
              " 'bitwiseXor',\n",
              " 'bitwise_and',\n",
              " 'bitwise_not',\n",
              " 'bitwise_or',\n",
              " 'bitwise_xor',\n",
              " 'blend',\n",
              " 'byte',\n",
              " 'cast',\n",
              " 'cat',\n",
              " 'cbrt',\n",
              " 'ceil',\n",
              " 'changeProj',\n",
              " 'clamp',\n",
              " 'classify',\n",
              " 'clip',\n",
              " 'clipToBoundsAndScale',\n",
              " 'clipToCollection',\n",
              " 'cluster',\n",
              " 'combine_',\n",
              " 'connectedComponents',\n",
              " 'connectedPixelCount',\n",
              " 'constant',\n",
              " 'convolve',\n",
              " 'copyProperties',\n",
              " 'cos',\n",
              " 'cosh',\n",
              " 'cumulativeCost',\n",
              " 'date',\n",
              " 'derivative',\n",
              " 'digamma',\n",
              " 'directionalDistanceTransform',\n",
              " 'displace',\n",
              " 'displacement',\n",
              " 'distance',\n",
              " 'divide',\n",
              " 'double',\n",
              " 'encode',\n",
              " 'encode_cloud_value',\n",
              " 'entropy',\n",
              " 'eq',\n",
              " 'erf',\n",
              " 'erfInv',\n",
              " 'erfc',\n",
              " 'erfcInv',\n",
              " 'exp',\n",
              " 'expression',\n",
              " 'fastDistanceTransform',\n",
              " 'first',\n",
              " 'firstNonZero',\n",
              " 'first_nonzero',\n",
              " 'float',\n",
              " 'floor',\n",
              " 'focalMax',\n",
              " 'focalMean',\n",
              " 'focalMedian',\n",
              " 'focalMin',\n",
              " 'focalMode',\n",
              " 'focal_max',\n",
              " 'focal_mean',\n",
              " 'focal_median',\n",
              " 'focal_min',\n",
              " 'focal_mode',\n",
              " 'freeze',\n",
              " 'gamma',\n",
              " 'gammainc',\n",
              " 'geometry',\n",
              " 'get',\n",
              " 'getArray',\n",
              " 'getDownloadURL',\n",
              " 'getDownloadUrl',\n",
              " 'getInfo',\n",
              " 'getMapId',\n",
              " 'getNumber',\n",
              " 'getString',\n",
              " 'getThumbId',\n",
              " 'getThumbURL',\n",
              " 'getThumbUrl',\n",
              " 'glcmTexture',\n",
              " 'gradient',\n",
              " 'gt',\n",
              " 'gte',\n",
              " 'hersDescriptor',\n",
              " 'hersFeature',\n",
              " 'hersImage',\n",
              " 'hsvToRgb',\n",
              " 'hypot',\n",
              " 'id',\n",
              " 'initialize',\n",
              " 'int',\n",
              " 'int16',\n",
              " 'int32',\n",
              " 'int64',\n",
              " 'int8',\n",
              " 'interpolate',\n",
              " 'isVariable',\n",
              " 'lanczos',\n",
              " 'leftShift',\n",
              " 'left_shift',\n",
              " 'load',\n",
              " 'loadGeoTIFF',\n",
              " 'log',\n",
              " 'log10',\n",
              " 'long',\n",
              " 'lt',\n",
              " 'lte',\n",
              " 'mask',\n",
              " 'matrixCholeskyDecomposition',\n",
              " 'matrixDeterminant',\n",
              " 'matrixDiagonal',\n",
              " 'matrixFnorm',\n",
              " 'matrixIdentity',\n",
              " 'matrixInverse',\n",
              " 'matrixLUDecomposition',\n",
              " 'matrixMultiply',\n",
              " 'matrixPseudoInverse',\n",
              " 'matrixQRDecomposition',\n",
              " 'matrixSingularValueDecomposition',\n",
              " 'matrixSolve',\n",
              " 'matrixToDiag',\n",
              " 'matrixTrace',\n",
              " 'matrixTranspose',\n",
              " 'max',\n",
              " 'medialAxis',\n",
              " 'metadata',\n",
              " 'min',\n",
              " 'mod',\n",
              " 'multiply',\n",
              " 'name',\n",
              " 'neighborhoodToArray',\n",
              " 'neighborhoodToBands',\n",
              " 'neq',\n",
              " 'normalizedDifference',\n",
              " 'paint',\n",
              " 'parseExpression',\n",
              " 'pixelArea',\n",
              " 'pixelCoordinates',\n",
              " 'pixelLonLat',\n",
              " 'polynomial',\n",
              " 'pow',\n",
              " 'prepare_for_export',\n",
              " 'projection',\n",
              " 'propertyNames',\n",
              " 'random',\n",
              " 'randomVisualizer',\n",
              " 'reduce',\n",
              " 'reduceConnectedComponents',\n",
              " 'reduceNeighborhood',\n",
              " 'reduceRegion',\n",
              " 'reduceRegions',\n",
              " 'reduceResolution',\n",
              " 'reduceToVectors',\n",
              " 'reduceToVectorsStreaming',\n",
              " 'regexpRename',\n",
              " 'register',\n",
              " 'remap',\n",
              " 'rename',\n",
              " 'replaceProperties',\n",
              " 'reproject',\n",
              " 'resample',\n",
              " 'reset',\n",
              " 'retile',\n",
              " 'rgb',\n",
              " 'rgbToHsv',\n",
              " 'rightShift',\n",
              " 'right_shift',\n",
              " 'round',\n",
              " 'rsedTransform',\n",
              " 'sample',\n",
              " 'sampleRectangle',\n",
              " 'sampleRegions',\n",
              " 'select',\n",
              " 'selfMask',\n",
              " 'serialize',\n",
              " 'set',\n",
              " 'setDefaultProjection',\n",
              " 'setMulti',\n",
              " 'short',\n",
              " 'signum',\n",
              " 'sin',\n",
              " 'sinh',\n",
              " 'sldStyle',\n",
              " 'slice',\n",
              " 'spectralDilation',\n",
              " 'spectralDistance',\n",
              " 'spectralErosion',\n",
              " 'spectralGradient',\n",
              " 'sqrt',\n",
              " 'stratifiedSample',\n",
              " 'subtract',\n",
              " 'tan',\n",
              " 'tanh',\n",
              " 'toArray',\n",
              " 'toByte',\n",
              " 'toDictionary',\n",
              " 'toDouble',\n",
              " 'toFloat',\n",
              " 'toInt',\n",
              " 'toInt16',\n",
              " 'toInt32',\n",
              " 'toInt64',\n",
              " 'toInt8',\n",
              " 'toLong',\n",
              " 'toShort',\n",
              " 'toUint16',\n",
              " 'toUint32',\n",
              " 'toUint8',\n",
              " 'translate',\n",
              " 'trigamma',\n",
              " 'uint16',\n",
              " 'uint32',\n",
              " 'uint8',\n",
              " 'unitScale',\n",
              " 'unmask',\n",
              " 'unmix',\n",
              " 'updateMask',\n",
              " 'visualize',\n",
              " 'where',\n",
              " 'zeroCrossing']"
            ]
          },
          "metadata": {},
          "execution_count": 18
        }
      ]
    },
    {
      "cell_type": "markdown",
      "metadata": {
        "id": "9rzq5JAMIfKF"
      },
      "source": [
        "# Wrapping Up"
      ]
    },
    {
      "cell_type": "markdown",
      "metadata": {
        "id": "bzuzuLzRM-lY"
      },
      "source": [
        "## ***Thank you!***"
      ]
    }
  ]
}